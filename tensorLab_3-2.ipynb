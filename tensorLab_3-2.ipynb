{
 "cells": [
  {
   "cell_type": "code",
   "execution_count": 8,
   "metadata": {},
   "outputs": [
    {
     "name": "stdout",
     "output_type": "stream",
     "text": [
      "step 0 :  9.557398 [0.17376077]\n",
      "step 1 :  2.7185483 [0.5593391]\n",
      "step 2 :  0.773276 [0.76498085]\n",
      "step 3 :  0.2199541 [0.87465644]\n",
      "step 4 :  0.06256468 [0.9331501]\n",
      "step 5 :  0.017796189 [0.9643467]\n",
      "step 6 :  0.0050620222 [0.9809849]\n",
      "step 7 :  0.0014398642 [0.9898586]\n",
      "step 8 :  0.0004095552 [0.9945913]\n",
      "step 9 :  0.00011649498 [0.9971154]\n",
      "step 10 :  3.3135286e-05 [0.99846154]\n",
      "step 11 :  9.424899e-06 [0.9991795]\n",
      "step 12 :  2.6808116e-06 [0.9995624]\n",
      "step 13 :  7.627349e-07 [0.9997666]\n",
      "step 14 :  2.170972e-07 [0.9998755]\n",
      "step 15 :  6.1772155e-08 [0.9999336]\n",
      "step 16 :  1.7574692e-08 [0.9999646]\n",
      "step 17 :  5.004882e-09 [0.9999811]\n",
      "step 18 :  1.4241728e-09 [0.9999899]\n",
      "step 19 :  4.0672887e-10 [0.99999464]\n",
      "step 20 :  1.1459633e-10 [0.99999714]\n"
     ]
    }
   ],
   "source": [
    "import tensorflow as tf\n",
    "x_data = [1,2,3]\n",
    "y_data = [1,2,3]\n",
    "\n",
    "W = tf.Variable(tf.random_normal([1]), name = 'weight')\n",
    "X = tf.placeholder(tf.float32)\n",
    "Y = tf.placeholder(tf.float32)\n",
    "\n",
    "hypothesis = W * X\n",
    "\n",
    "cost = tf.reduce_sum(tf.square(hypothesis - Y))\n",
    "\n",
    "learning_rate = 0.1\n",
    "gradient = tf.reduce_mean((W * X - Y) * X)\n",
    "descent = W - learning_rate * gradient\n",
    "update = W.assign(descent)\n",
    "\n",
    "sess = tf.Session()\n",
    "sess.run(tf.global_variables_initializer())\n",
    "for step in range(21):\n",
    "    sess.run(update, feed_dict = {X : x_data, Y : y_data})\n",
    "    print('step', step, ': ', sess.run(cost, feed_dict = {X: x_data, Y: y_data}), sess.run(W))"
   ]
  },
  {
   "cell_type": "code",
   "execution_count": null,
   "metadata": {},
   "outputs": [],
   "source": []
  }
 ],
 "metadata": {
  "kernelspec": {
   "display_name": "Python 3",
   "language": "python",
   "name": "python3"
  },
  "language_info": {
   "codemirror_mode": {
    "name": "ipython",
    "version": 3
   },
   "file_extension": ".py",
   "mimetype": "text/x-python",
   "name": "python",
   "nbconvert_exporter": "python",
   "pygments_lexer": "ipython3",
   "version": "3.7.3"
  }
 },
 "nbformat": 4,
 "nbformat_minor": 2
}
