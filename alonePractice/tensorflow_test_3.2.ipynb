{
 "cells": [
  {
   "cell_type": "code",
   "execution_count": 1,
   "metadata": {},
   "outputs": [],
   "source": [
    "import tensorflow as tf"
   ]
  },
  {
   "cell_type": "code",
   "execution_count": 8,
   "metadata": {},
   "outputs": [],
   "source": [
    "x_data = [1,2,3]\n",
    "y_data = [1,2,3]\n",
    "\n",
    "W = tf.Variable(tf.random_normal([1]), name = 'weight')\n",
    "X = tf.placeholder(tf.float32)\n",
    "Y = tf.placeholder(tf.float32)"
   ]
  },
  {
   "cell_type": "code",
   "execution_count": 9,
   "metadata": {},
   "outputs": [],
   "source": [
    "hypothsis = X * W"
   ]
  },
  {
   "cell_type": "code",
   "execution_count": 10,
   "metadata": {},
   "outputs": [],
   "source": [
    "cost = tf.reduce_mean(tf.square(Y - hypothsis))"
   ]
  },
  {
   "cell_type": "code",
   "execution_count": 11,
   "metadata": {},
   "outputs": [],
   "source": [
    "learning_rate = 0.1\n",
    "gradient = tf.reduce_mean((W*X-Y)*X)\n",
    "descent = W - learning_rate * gradient\n",
    "update = W.assign(descent)"
   ]
  },
  {
   "cell_type": "code",
   "execution_count": 12,
   "metadata": {},
   "outputs": [],
   "source": [
    "sess = tf.Session()\n",
    "\n",
    "sess.run(tf.global_variables_initializer())"
   ]
  },
  {
   "cell_type": "code",
   "execution_count": 13,
   "metadata": {},
   "outputs": [
    {
     "name": "stdout",
     "output_type": "stream",
     "text": [
      "0 1.9708996 [0.35012645]\n",
      "1 0.5606114 [0.6534008]\n",
      "2 0.1594628 [0.8151471]\n",
      "3 0.045358315 [0.9014118]\n",
      "4 0.01290194 [0.9474196]\n",
      "5 0.0036698964 [0.9719571]\n",
      "6 0.0010438819 [0.98504376]\n",
      "7 0.00029692773 [0.99202335]\n",
      "8 8.445821e-05 [0.9957458]\n",
      "9 2.402433e-05 [0.9977311]\n",
      "10 6.833234e-06 [0.9987899]\n",
      "11 1.9438532e-06 [0.9993546]\n",
      "12 5.5288996e-07 [0.9996558]\n",
      "13 1.5727817e-07 [0.9998164]\n",
      "14 4.4743384e-08 [0.99990207]\n",
      "15 1.272258e-08 [0.9999478]\n",
      "16 3.6124526e-09 [0.99997216]\n",
      "17 1.0297055e-09 [0.99998516]\n",
      "18 2.9421798e-10 [0.9999921]\n",
      "19 8.3073104e-11 [0.99999577]\n",
      "20 2.3405278e-11 [0.99999774]\n"
     ]
    }
   ],
   "source": [
    "for step in range(21):\n",
    "    sess.run(update, feed_dict={X:x_data, Y:y_data})\n",
    "    print(step, sess.run(cost, feed_dict={X:x_data, Y:y_data}), sess.run(W))"
   ]
  },
  {
   "cell_type": "code",
   "execution_count": 27,
   "metadata": {},
   "outputs": [
    {
     "name": "stdout",
     "output_type": "stream",
     "text": [
      "Tensor(\"add:0\", shape=(1,), dtype=float32)\n"
     ]
    }
   ],
   "source": [
    "random = tf.Variable(tf.random_normal([1]), name = 'random')\n",
    "print(3+random)"
   ]
  },
  {
   "cell_type": "code",
   "execution_count": null,
   "metadata": {},
   "outputs": [],
   "source": []
  }
 ],
 "metadata": {
  "kernelspec": {
   "display_name": "Python 3",
   "language": "python",
   "name": "python3"
  },
  "language_info": {
   "codemirror_mode": {
    "name": "ipython",
    "version": 3
   },
   "file_extension": ".py",
   "mimetype": "text/x-python",
   "name": "python",
   "nbconvert_exporter": "python",
   "pygments_lexer": "ipython3",
   "version": "3.7.3"
  }
 },
 "nbformat": 4,
 "nbformat_minor": 2
}
