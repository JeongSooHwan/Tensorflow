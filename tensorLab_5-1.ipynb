{
 "cells": [
  {
   "cell_type": "code",
   "execution_count": 1,
   "metadata": {},
   "outputs": [],
   "source": [
    "import tensorflow as tf\n"
   ]
  },
  {
   "cell_type": "code",
   "execution_count": 7,
   "metadata": {},
   "outputs": [],
   "source": [
    "x_data = [[1,2], [2,3],[3,1],[4,3], [5,3], [6,2]]\n",
    "y_data = [[0],[0],[0],[1],[1],[1]]\n",
    "\n",
    "X = tf.placeholder(tf.float32, shape = [None,2])\n",
    "Y = tf.placeholder(tf.float32, shape = [None,1])\n",
    "W = tf.Variable(tf.random_normal([2,1]), name = 'weight')\n",
    "b = tf.Variable(tf.random_normal([1], ), name = 'bias')\n",
    "\n",
    "hypothesis = tf.sigmoid(tf.matmul(X, W) + b)\n",
    "\n",
    "cost = -tf.reduce_mean(Y * tf.log(hypothesis) + (1 - Y) * tf.log(1 - hypothesis))\n",
    "\n",
    "train = tf.train.GradientDescentOptimizer(learning_rate = 0.01).minimize(cost)\n",
    "\n",
    "predicted = tf.cast(hypothesis > 0.5, dtype = tf.float32)\n",
    "accuracy = tf.reduce_mean(tf.cast(tf.equal(predicted, Y), dtype=tf.float32))"
   ]
  },
  {
   "cell_type": "code",
   "execution_count": 9,
   "metadata": {},
   "outputs": [
    {
     "name": "stdout",
     "output_type": "stream",
     "text": [
      "0 0.9878859\n",
      "200 0.58129615\n",
      "400 0.54920524\n",
      "600 0.5206563\n",
      "800 0.49534544\n",
      "1000 0.47289017\n",
      "1200 0.45286188\n",
      "1400 0.43484235\n",
      "1600 0.41846254\n",
      "1800 0.40342024\n",
      "2000 0.38948095\n",
      "2200 0.37646878\n",
      "2400 0.36425397\n",
      "2600 0.35274038\n",
      "2800 0.34185553\n",
      "3000 0.33154312\n",
      "3200 0.3217579\n",
      "3400 0.31246167\n",
      "3600 0.30362177\n",
      "3800 0.29520902\n",
      "4000 0.28719714\n",
      "4200 0.27956185\n",
      "4400 0.2722809\n",
      "4600 0.26533347\n",
      "4800 0.2587002\n",
      "5000 0.252363\n",
      "5200 0.2463047\n",
      "5400 0.24050957\n",
      "5600 0.23496276\n",
      "5800 0.22965032\n",
      "6000 0.22455911\n",
      "6200 0.21967691\n",
      "6400 0.21499236\n",
      "6600 0.2104946\n",
      "6800 0.20617361\n",
      "7000 0.20201994\n",
      "7200 0.19802485\n",
      "7400 0.19417985\n",
      "7600 0.19047742\n",
      "7800 0.18691011\n",
      "8000 0.18347125\n",
      "8200 0.18015416\n",
      "8400 0.176953\n",
      "8600 0.17386204\n",
      "8800 0.17087595\n",
      "9000 0.16798973\n",
      "9200 0.1651987\n",
      "9400 0.16249831\n",
      "9600 0.15988447\n",
      "9800 0.15735315\n",
      "10000 0.15490073\n",
      "\n",
      "Hypothesis:  [[0.03304541]\n",
      " [0.16185394]\n",
      " [0.3157233 ]\n",
      " [0.77646756]\n",
      " [0.9364368 ]\n",
      " [0.9791222 ]] \n",
      "Correct (Y):  [[0.]\n",
      " [0.]\n",
      " [0.]\n",
      " [1.]\n",
      " [1.]\n",
      " [1.]] \n",
      "Accuracy:  1.0\n"
     ]
    }
   ],
   "source": [
    "with tf.Session() as sess:\n",
    "    sess.run(tf.global_variables_initializer())\n",
    "    \n",
    "    for step in range(10001):\n",
    "        cost_val, _ = sess.run([cost, train], feed_dict={X : x_data, Y: y_data})\n",
    "        if step % 200 == 0:\n",
    "            print(step, cost_val)\n",
    "    h, c, a = sess.run([hypothesis, predicted, accuracy],\n",
    "                      feed_dict = {X: x_data,  Y: y_data})\n",
    "    print(\"\\nHypothesis: \", h, \"\\nCorrect (Y): \", c, \"\\nAccuracy: \", a)"
   ]
  },
  {
   "cell_type": "code",
   "execution_count": null,
   "metadata": {},
   "outputs": [],
   "source": []
  }
 ],
 "metadata": {
  "kernelspec": {
   "display_name": "Python 3",
   "language": "python",
   "name": "python3"
  },
  "language_info": {
   "codemirror_mode": {
    "name": "ipython",
    "version": 3
   },
   "file_extension": ".py",
   "mimetype": "text/x-python",
   "name": "python",
   "nbconvert_exporter": "python",
   "pygments_lexer": "ipython3",
   "version": "3.7.3"
  }
 },
 "nbformat": 4,
 "nbformat_minor": 2
}
