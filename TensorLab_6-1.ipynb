{
 "cells": [
  {
   "cell_type": "markdown",
   "metadata": {},
   "source": [
    "# Softmax Regression"
   ]
  },
  {
   "cell_type": "code",
   "execution_count": 2,
   "metadata": {},
   "outputs": [],
   "source": [
    "import tensorflow as tf"
   ]
  },
  {
   "cell_type": "code",
   "execution_count": 20,
   "metadata": {},
   "outputs": [
    {
     "name": "stdout",
     "output_type": "stream",
     "text": [
      "cost: \n",
      "0 4.257083\n",
      "200 0.63245267\n",
      "400 0.51723605\n",
      "600 0.42029616\n",
      "800 0.32812208\n",
      "1000 0.25334054\n",
      "1200 0.22778259\n",
      "1400 0.20732868\n",
      "1600 0.19014195\n",
      "1800 0.17549449\n",
      "2000 0.16286616\n",
      "--------------------\n",
      "a: \n",
      "[[3.4367338e-02 9.6562487e-01 7.8478870e-06]] [1]\n",
      "--------------------\n",
      "b: \n",
      "[[0.66518855 0.31483546 0.01997603]] [0]\n",
      "--------------------\n",
      "c: \n",
      "[[1.2554878e-08 3.6922650e-04 9.9963069e-01]] [2]\n",
      "--------------------\n",
      "all: \n",
      "[[3.4367274e-02 9.6562493e-01 7.8478952e-06]\n",
      " [6.6518855e-01 3.1483537e-01 1.9976020e-02]\n",
      " [1.2554878e-08 3.6922650e-04 9.9963069e-01]] [1 0 2]\n"
     ]
    }
   ],
   "source": [
    "x_data = [[1, 2, 1, 1], [2, 1, 3, 2], [3, 1, 3, 4], [4, 1, 5, 5], [1, 7, 5, 5], [1, 2, 5, 6], [1, 6, 6, 6], [1, 7, 7, 7]]\n",
    "y_data = [[0, 0, 1], [0, 0, 1], [0, 0, 1], [0, 1, 0], [0, 1, 0], [0, 1, 0], [1, 0, 0], [1, 0, 0]]\n",
    "\n",
    "X = tf.placeholder(\"float\", [None, 4])\n",
    "Y = tf.placeholder(\"float\", [None, 3]) #label 갯수\n",
    "nb_classes = 3\n",
    "\n",
    "W = tf.Variable(tf.random_normal([4, nb_classes], name = 'weight'))\n",
    "b = tf.Variable(tf.random_normal([nb_classes]), name = 'bias')\n",
    "\n",
    "# tf.nn.softmax computes softmax activations\n",
    "# softmax = exp(logits) / reduce_sum(exp(logits), dim)\n",
    "hypothesis = tf.nn.softmax(tf.matmul(X, W) + b)\n",
    "\n",
    "cost = tf.reduce_mean(-tf.reduce_sum(Y * tf.log(hypothesis), axis = 1))\n",
    "optimizer = tf.train.GradientDescentOptimizer(learning_rate = 0.1).minimize(cost)\n",
    "\n",
    "with tf.Session() as sess:\n",
    "    sess.run(tf.global_variables_initializer())\n",
    "    print('cost: ')\n",
    "    for step in range(2001):\n",
    "        sess.run(optimizer, feed_dict = {X: x_data, Y: y_data})\n",
    "        if step % 200 == 0:\n",
    "            print(step, sess.run(cost, feed_dict = {X: x_data, Y: y_data}))\n",
    "        \n",
    "    print('--------------------\\na: ')\n",
    "    a = sess.run(hypothesis, feed_dict={X:[[1, 11, 7, 9]]})\n",
    "    print(a, sess.run(tf.argmax(a, 1)))\n",
    "    \n",
    "    print('--------------------\\nb: ')\n",
    "    b = sess.run(hypothesis, feed_dict={X:[[1, 3, 4, 3]]})\n",
    "    print(b, sess.run(tf.argmax(b, 1)))\n",
    "    \n",
    "    print('--------------------\\nc: ')\n",
    "    c = sess.run(hypothesis, feed_dict={X:[[1, 1, 0, 1]]})\n",
    "    print(c, sess.run(tf.argmax(c, 1)))\n",
    "    \n",
    "    print('--------------------\\nall: ')\n",
    "    all = sess.run(hypothesis, feed_dict={X:[[1, 11, 7, 9], [1, 3, 4, 3], [1 ,1, 0, 1]]})\n",
    "    print(all, sess.run(tf.argmax(all, 1)))"
   ]
  },
  {
   "cell_type": "code",
   "execution_count": null,
   "metadata": {},
   "outputs": [],
   "source": []
  }
 ],
 "metadata": {
  "kernelspec": {
   "display_name": "Python 3",
   "language": "python",
   "name": "python3"
  },
  "language_info": {
   "codemirror_mode": {
    "name": "ipython",
    "version": 3
   },
   "file_extension": ".py",
   "mimetype": "text/x-python",
   "name": "python",
   "nbconvert_exporter": "python",
   "pygments_lexer": "ipython3",
   "version": "3.7.3"
  }
 },
 "nbformat": 4,
 "nbformat_minor": 2
}
